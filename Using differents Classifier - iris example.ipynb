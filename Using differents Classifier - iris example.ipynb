{
 "cells": [
  {
   "cell_type": "code",
   "execution_count": 1,
   "metadata": {},
   "outputs": [],
   "source": [
    "from sklearn import datasets\n",
    "from sklearn.model_selection import train_test_split\n",
    "from sklearn import tree\n",
    "from sklearn.neighbors import KNeighborsClassifier\n",
    "from sklearn.metrics import accuracy_score"
   ]
  },
  {
   "cell_type": "code",
   "execution_count": 2,
   "metadata": {},
   "outputs": [],
   "source": [
    "iris=datasets.load_iris()"
   ]
  },
  {
   "cell_type": "code",
   "execution_count": 3,
   "metadata": {},
   "outputs": [],
   "source": [
    "X= iris.data"
   ]
  },
  {
   "cell_type": "code",
   "execution_count": 4,
   "metadata": {},
   "outputs": [],
   "source": [
    "y=iris.target"
   ]
  },
  {
   "cell_type": "code",
   "execution_count": 5,
   "metadata": {},
   "outputs": [],
   "source": [
    "X_train,X_test,y_train,y_test=train_test_split(X,y,test_size=.5)"
   ]
  },
  {
   "cell_type": "code",
   "execution_count": 6,
   "metadata": {
    "scrolled": false
   },
   "outputs": [
    {
     "data": {
      "text/plain": [
       "DecisionTreeClassifier()"
      ]
     },
     "execution_count": 6,
     "metadata": {},
     "output_type": "execute_result"
    }
   ],
   "source": [
    "my_classifier= tree.DecisionTreeClassifier()\n",
    "my_classifier.fit(X_train,y_train)"
   ]
  },
  {
   "cell_type": "code",
   "execution_count": 7,
   "metadata": {},
   "outputs": [
    {
     "data": {
      "text/plain": [
       "[Text(133.92000000000002, 195.696, 'X[2] <= 2.45\\ngini = 0.663\\nsamples = 75\\nvalue = [25, 28, 22]'),\n",
       " Text(66.96000000000001, 152.208, 'gini = 0.0\\nsamples = 25\\nvalue = [25, 0, 0]'),\n",
       " Text(200.88000000000002, 152.208, 'X[3] <= 1.65\\ngini = 0.493\\nsamples = 50\\nvalue = [0, 28, 22]'),\n",
       " Text(133.92000000000002, 108.72, 'X[2] <= 5.0\\ngini = 0.175\\nsamples = 31\\nvalue = [0, 28, 3]'),\n",
       " Text(66.96000000000001, 65.232, 'gini = 0.0\\nsamples = 27\\nvalue = [0, 27, 0]'),\n",
       " Text(200.88000000000002, 65.232, 'X[0] <= 6.05\\ngini = 0.375\\nsamples = 4\\nvalue = [0, 1, 3]'),\n",
       " Text(133.92000000000002, 21.744, 'gini = 0.0\\nsamples = 1\\nvalue = [0, 1, 0]'),\n",
       " Text(267.84000000000003, 21.744, 'gini = 0.0\\nsamples = 3\\nvalue = [0, 0, 3]'),\n",
       " Text(267.84000000000003, 108.72, 'gini = 0.0\\nsamples = 19\\nvalue = [0, 0, 19]')]"
      ]
     },
     "execution_count": 7,
     "metadata": {},
     "output_type": "execute_result"
    },
    {
     "data": {
      "image/png": "[encoded data removed]",
      "text/plain": [
       "<Figure size 432x288 with 1 Axes>"
      ]
     },
     "metadata": {
      "needs_background": "light"
     },
     "output_type": "display_data"
    }
   ],
   "source": [
    "tree.plot_tree(my_classifier)"
   ]
  },
  {
   "cell_type": "code",
   "execution_count": 8,
   "metadata": {},
   "outputs": [
    {
     "name": "stdout",
     "output_type": "stream",
     "text": [
      "[1 2 1 2 0 1 0 2 1 0 2 2 1 0 0 2 1 2 2 0 2 2 1 0 0 1 2 2 1 2 2 0 1 1 1 2 0\n",
      " 2 0 2 2 2 1 1 0 0 0 1 0 2 1 2 2 0 0 2 1 0 0 0 0 2 0 2 1 1 0 0 2 2 0 2 2 1\n",
      " 1]\n"
     ]
    }
   ],
   "source": [
    "predictions=my_classifier.predict(X_test)\n",
    "print(predictions)"
   ]
  },
  {
   "cell_type": "code",
   "execution_count": 9,
   "metadata": {},
   "outputs": [
    {
     "name": "stdout",
     "output_type": "stream",
     "text": [
      "0.96\n"
     ]
    }
   ],
   "source": [
    "print(accuracy_score(y_test,predictions))"
   ]
  },
  {
   "cell_type": "code",
   "execution_count": 10,
   "metadata": {
    "scrolled": true
   },
   "outputs": [
    {
     "name": "stdout",
     "output_type": "stream",
     "text": [
      "[1 2 1 2 0 1 0 2 2 0 2 2 1 0 0 1 1 2 2 0 2 2 1 0 0 1 2 2 1 2 2 0 1 1 1 2 0\n",
      " 2 0 2 2 2 1 1 0 0 0 1 0 2 1 2 2 0 0 2 1 0 0 0 0 2 0 2 1 1 0 0 2 2 0 2 2 1\n",
      " 1]\n"
     ]
    }
   ],
   "source": [
    "my_classifier2= KNeighborsClassifier()\n",
    "my_classifier2.fit(X_train,y_train)\n",
    "predictions2=my_classifier2.predict(X_test)\n",
    "print(predictions2)"
   ]
  },
  {
   "cell_type": "code",
   "execution_count": 11,
   "metadata": {},
   "outputs": [
    {
     "name": "stdout",
     "output_type": "stream",
     "text": [
      "0.9866666666666667\n"
     ]
    }
   ],
   "source": [
    "print(accuracy_score(y_test,predictions2))"
   ]
  }
 ],
 "metadata": {
  "kernelspec": {
   "display_name": "Python 3",
   "language": "python",
   "name": "python3"
  },
  "language_info": {
   "codemirror_mode": {
    "name": "ipython",
    "version": 3
   },
   "file_extension": ".py",
   "mimetype": "text/x-python",
   "name": "python",
   "nbconvert_exporter": "python",
   "pygments_lexer": "ipython3",
   "version": "3.7.6rc1"
  }
 },
 "nbformat": 4,
 "nbformat_minor": 4
}
